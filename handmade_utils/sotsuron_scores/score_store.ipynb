{
 "cells": [
  {
   "cell_type": "code",
   "execution_count": 1,
   "metadata": {},
   "outputs": [],
   "source": [
    "import os\n",
    "import numpy as np"
   ]
  },
  {
   "cell_type": "markdown",
   "metadata": {},
   "source": [
    "どう考えてもPandasを入れたほうがいい  \n",
    "まあ作ったものは仕方ないので、読み出したあとdicをまとめる操作以降をPandasする"
   ]
  },
  {
   "cell_type": "markdown",
   "metadata": {},
   "source": [
    "数値をtxtファイルに保存する関数を作る　trainer mainで呼ぶ  \n",
    "１行目のdescription(default=#),2行目以降の　「属性：値」　は引数として自由に取る    \n",
    "保存先ディレクトリとファイル接頭辞もとりあえず引数に取ることにして、訓練のmain.pyが参照する config.jsonにそのパスは入れておく形式で行く  \n",
    "  \n",
    "ファイルidをどうすればいいかわからないが、fileidを引数にとってそのファイルに書き込む形式にするとjoinも非joinも対応できるか  \n",
    "やっぱ最初にid一覧を引き取って、そのぶんだけdescriptionを書く初期化を行うことにする  \n",
    "非joinの場合のみ、1Storing()=1ファイル となる "
   ]
  },
  {
   "cell_type": "code",
   "execution_count": 2,
   "metadata": {},
   "outputs": [],
   "source": [
    "class ScoreStoring(): #1ディレクトリ。引数はconfig only これはjointのときだけ使うことにする\n",
    "    #data_config[\"savescore_dir\"],data_config[\"filename_common\"]\n",
    "    def __init__(self,data_config,fileid_str_list,rowAttr=\"epoch\",rowVal=\"accuracy\",dir_descrption=None,file_description=\"#\"):\n",
    "        print(\"filename_ids:\",fileid_str_list)\n",
    "        #fileid_str_list : [\"1\",\"2\",\"3\"... ] など 日付にするのも良い〜\n",
    "        self.filepath_dic ={}\n",
    "        for id in fileid_str_list:\n",
    "            self.filepath_dic[id] =os.path.join(data_config[\"savescore_dir\"],data_config[\"filename_common\"]+id+\".txt\")\n",
    "            #fileがすでにあるならその中身を初期化し、１行目にdescriptionを書く\n",
    "            with open( self.filepath_dic[id], \"w\" , encoding= \"utf-8\" ) as f:\n",
    "                f.write(file_description+rowAttr+\":\"+rowVal+\"\\n\")\n",
    "        \n",
    "    def store(self,fileid_str,attr,val):\n",
    "        filepath=self.filepath_dic[fileid_str]\n",
    "        with open( filepath, \"a\" , encoding= \"utf-8\" ) as f:\n",
    "            f.write(str(attr)+\":\"+str(val)+\"\\n\")\n",
    "\n",
    "        ##writelines"
   ]
  },
  {
   "cell_type": "markdown",
   "metadata": {},
   "source": [
    "#xとyが１；１以外でも、ｙが複数合っても対応できるようにしたい"
   ]
  },
  {
   "cell_type": "code",
   "execution_count": 3,
   "metadata": {},
   "outputs": [],
   "source": [
    "\n",
    "class ScoreStoringLoader(): \n",
    "    #data_config[\"savescore_dir\"],data_config[\"filename_common\"]\n",
    "    def __init__(self,savescore_dir,filename_common,fileid_str_list,desc_lines=1,sep=\":\",vals=[\"epoch\",\"accuracy\"]):\n",
    "        self.desc_lines =desc_lines\n",
    "        self.sep=sep\n",
    "        print(\"read_filename_ids:\",fileid_str_list)\n",
    "        #fileid_str_list : [\"1\",\"2\",\"3\"... ] など initで読み出して保持までやる\n",
    "        self.filepath_dic ={}\n",
    "        self.data_dic={} #{\"id=1\":{\"epoch\":[0,10,20...]  , \"accuracy\":[0.7,0.8,0.9 ...]  , \"z\"...}  \n",
    "                            #}\n",
    "\n",
    "        for id in fileid_str_list:\n",
    "            self.filepath_dic[id] =os.path.join(savescore_dir,filename_common+id+\".txt\")\n",
    "        for id,path in self.filepath_dic.items():\n",
    "            with open(path, \"r\" , encoding= \"utf-8\" ) as f:\n",
    "                lines=f.read().splitlines()[desc_lines:]\n",
    "                listed_data = [line.split(self.sep) for line in lines]\n",
    "                listed_data = np.array([[float(data) for data in line] for line in listed_data])\n",
    "                self.data_dic[id] ={vals[0]:listed_data[:,0],vals[1]:listed_data[:,1]}\n",
    "\n",
    "    def get_data_dic(self): \n",
    "        return self.data_dic"
   ]
  },
  {
   "cell_type": "code",
   "execution_count": 4,
   "metadata": {},
   "outputs": [
    {
     "ename": "SyntaxError",
     "evalue": "invalid syntax (3131940118.py, line 1)",
     "output_type": "error",
     "traceback": [
      "\u001b[0;36m  Cell \u001b[0;32mIn [4], line 1\u001b[0;36m\u001b[0m\n\u001b[0;31m    data_config=\u001b[0m\n\u001b[0m                ^\u001b[0m\n\u001b[0;31mSyntaxError\u001b[0m\u001b[0;31m:\u001b[0m invalid syntax\n"
     ]
    }
   ],
   "source": [
    "\n"
   ]
  },
  {
   "cell_type": "code",
   "execution_count": null,
   "metadata": {},
   "outputs": [],
   "source": []
  }
 ],
 "metadata": {
  "kernelspec": {
   "display_name": "Python 3.8.10 64-bit",
   "language": "python",
   "name": "python3"
  },
  "language_info": {
   "codemirror_mode": {
    "name": "ipython",
    "version": 3
   },
   "file_extension": ".py",
   "mimetype": "text/x-python",
   "name": "python",
   "nbconvert_exporter": "python",
   "pygments_lexer": "ipython3",
   "version": "3.8.10"
  },
  "orig_nbformat": 4,
  "vscode": {
   "interpreter": {
    "hash": "916dbcbb3f70747c44a77c7bcd40155683ae19c65e1c03b4aa3499c5328201f1"
   }
  }
 },
 "nbformat": 4,
 "nbformat_minor": 2
}

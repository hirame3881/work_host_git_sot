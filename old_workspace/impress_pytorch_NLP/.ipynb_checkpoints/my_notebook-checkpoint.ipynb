{
 "cells": [
  {
   "cell_type": "code",
   "execution_count": 1,
   "id": "976f449c-72a0-4cb8-8501-ce225af46d1b",
   "metadata": {},
   "outputs": [
    {
     "name": "stderr",
     "output_type": "stream",
     "text": [
      "/home/student/my_env/lib/python3.8/site-packages/tqdm/auto.py:22: TqdmWarning: IProgress not found. Please update jupyter and ipywidgets. See https://ipywidgets.readthedocs.io/en/stable/user_install.html\n",
      "  from .autonotebook import tqdm as notebook_tqdm\n"
     ]
    }
   ],
   "source": [
    "import torch"
   ]
  },
  {
   "cell_type": "code",
   "execution_count": 11,
   "id": "e2c86584-8a6f-43f9-9fb0-ee7b30152f7c",
   "metadata": {},
   "outputs": [],
   "source": [
    "a=torch.tensor([0,1,2,3])"
   ]
  },
  {
   "cell_type": "code",
   "execution_count": 3,
   "id": "dbe175f2-3dba-4cd0-8535-bb4504d8a7b1",
   "metadata": {},
   "outputs": [
    {
     "data": {
      "text/plain": [
       "tensor([0., 1., 2., 3.])"
      ]
     },
     "execution_count": 3,
     "metadata": {},
     "output_type": "execute_result"
    }
   ],
   "source": [
    "torch.Tensor([0,1,2,3])"
   ]
  },
  {
   "cell_type": "code",
   "execution_count": 7,
   "id": "abbc67f2-977f-4a5a-b0b3-ee51e3da821d",
   "metadata": {},
   "outputs": [
    {
     "data": {
      "text/plain": [
       "tensor([[8.7548e+35, 4.5570e-41, 9.2177e-36],\n",
       "        [0.0000e+00, 4.4842e-44, 0.0000e+00]])"
      ]
     },
     "execution_count": 7,
     "metadata": {},
     "output_type": "execute_result"
    }
   ],
   "source": [
    "torch.Tensor(2,3)"
   ]
  },
  {
   "cell_type": "code",
   "execution_count": 8,
   "id": "f20b1515-f41f-4863-ac1b-5b254830462a",
   "metadata": {},
   "outputs": [
    {
     "data": {
      "text/plain": [
       "tensor([[0, 1, 2],\n",
       "        [3, 4, 5]])"
      ]
     },
     "execution_count": 8,
     "metadata": {},
     "output_type": "execute_result"
    }
   ],
   "source": [
    "torch.arange(6).reshape(2,3)"
   ]
  },
  {
   "cell_type": "code",
   "execution_count": 10,
   "id": "27bf98ce-e1ff-4650-be7e-2606874104d4",
   "metadata": {},
   "outputs": [
    {
     "name": "stdout",
     "output_type": "stream",
     "text": [
      "tensor(70.)\n",
      "tensor(70.)\n"
     ]
    }
   ],
   "source": [
    "a0=torch.tensor([1.,2.,3.,4.])\n",
    "a1=torch.tensor([5.,6.,7.,8.])\n",
    "print(torch.dot(a0,a1))\n",
    "print(torch.matmul(a0,a1))"
   ]
  },
  {
   "cell_type": "code",
   "execution_count": 16,
   "id": "816d261f-63d2-4198-b71c-9ee742b388e9",
   "metadata": {},
   "outputs": [
    {
     "name": "stdout",
     "output_type": "stream",
     "text": [
      "torch.int64\n"
     ]
    },
    {
     "data": {
      "text/plain": [
       "'torch.LongTensor'"
      ]
     },
     "execution_count": 16,
     "metadata": {},
     "output_type": "execute_result"
    }
   ],
   "source": [
    "print(a.dtype)\n",
    "a.type()"
   ]
  },
  {
   "cell_type": "code",
   "execution_count": 22,
   "id": "6b61fbde-a10b-4c2d-b88b-d2cdbf0548ab",
   "metadata": {},
   "outputs": [
    {
     "name": "stdout",
     "output_type": "stream",
     "text": [
      "tensor([1., 2., 3.])\n",
      "tensor([1, 2, 3])\n"
     ]
    }
   ],
   "source": [
    "a0=torch.tensor([1,2,3],dtype=torch.float)\n",
    "print(a0)\n",
    "a1=a0.type(torch.LongTensor)\n",
    "print(a1)"
   ]
  },
  {
   "cell_type": "code",
   "execution_count": 24,
   "id": "351cab67-fcab-4f48-8e9f-9f9ff75522b5",
   "metadata": {},
   "outputs": [
    {
     "data": {
      "text/plain": [
       "tensor([[[0, 1, 2],\n",
       "         [3, 4, 5]]])"
      ]
     },
     "execution_count": 24,
     "metadata": {},
     "output_type": "execute_result"
    }
   ],
   "source": [
    "a=torch.arange(6).reshape(2,3)\n",
    "a.unsqueeze(0)"
   ]
  },
  {
   "cell_type": "markdown",
   "id": "169d30fd-4b8a-486e-abfa-c06e0a59309d",
   "metadata": {},
   "source": [
    "a1.py 自動微分"
   ]
  },
  {
   "cell_type": "code",
   "execution_count": 25,
   "id": "b6b0c0b8-0705-48e6-8529-50a033f8a291",
   "metadata": {},
   "outputs": [
    {
     "name": "stdout",
     "output_type": "stream",
     "text": [
      "x=  tensor([ 1.8000, -2.6000,  1.0000]) , f=  49.959999084472656\n",
      "x=  tensor([ 0.6000,  0.5200, -0.8720]) , f=  5.186089515686035\n",
      "x=  tensor([ 0.8880, -0.3095, -0.7208]) , f=  1.8606034517288208\n",
      "x=  tensor([ 0.7866, -0.2187, -0.7689]) , f=  1.7421281337738037\n",
      "x=  tensor([ 0.7418, -0.2570, -0.8053]) , f=  1.6943340301513672\n",
      "x=  tensor([ 0.6906, -0.2824, -0.8461]) , f=  1.6444687843322754\n",
      "x=  tensor([ 0.6395, -0.3090, -0.8891]) , f=  1.5923564434051514\n",
      "x=  tensor([ 0.5880, -0.3349, -0.9339]) , f=  1.5387656688690186\n",
      "x=  tensor([ 0.5364, -0.3601, -0.9799]) , f=  1.4846372604370117\n",
      "x=  tensor([ 0.4851, -0.3843, -1.0265]) , f=  1.4310089349746704\n",
      "x=  tensor([ 0.4344, -0.4071, -1.0731]) , f=  1.3789256811141968\n",
      "x=  tensor([ 0.3846, -0.4285, -1.1189]) , f=  1.329352617263794\n",
      "x=  tensor([ 0.3363, -0.4483, -1.1635]) , f=  1.2830963134765625\n",
      "x=  tensor([ 0.2897, -0.4665, -1.2064]) , f=  1.2407550811767578\n",
      "x=  tensor([ 0.2452, -0.4829, -1.2472]) , f=  1.202695369720459\n",
      "x=  tensor([ 0.2030, -0.4977, -1.2856]) , f=  1.169058918952942\n",
      "x=  tensor([ 0.1633, -0.5109, -1.3215]) , f=  1.1397912502288818\n",
      "x=  tensor([ 0.1263, -0.5227, -1.3547]) , f=  1.114682912826538\n",
      "x=  tensor([ 0.0919, -0.5331, -1.3852]) , f=  1.0934158563613892\n",
      "x=  tensor([ 0.0603, -0.5423, -1.4131]) , f=  1.075606346130371\n",
      "x=  tensor([ 0.0313, -0.5504, -1.4384]) , f=  1.060842514038086\n",
      "x=  tensor([ 0.0049, -0.5575, -1.4613]) , f=  1.0487124919891357\n",
      "x=  tensor([-0.0191, -0.5637, -1.4820]) , f=  1.0388245582580566\n",
      "x=  tensor([-0.0407, -0.5692, -1.5006]) , f=  1.0308200120925903\n",
      "x=  tensor([-0.0603, -0.5739, -1.5172]) , f=  1.0243793725967407\n",
      "x=  tensor([-0.0778, -0.5781, -1.5320]) , f=  1.0192245244979858\n",
      "x=  tensor([-0.0935, -0.5818, -1.5452]) , f=  1.01511812210083\n",
      "x=  tensor([-0.1075, -0.5850, -1.5570]) , f=  1.0118600130081177\n",
      "x=  tensor([-0.1200, -0.5878, -1.5674]) , f=  1.0092843770980835\n",
      "x=  tensor([-0.1311, -0.5902, -1.5767]) , f=  1.0072544813156128\n",
      "x=  tensor([-0.1410, -0.5924, -1.5849]) , f=  1.0056591033935547\n",
      "x=  tensor([-0.1497, -0.5942, -1.5921]) , f=  1.0044082403182983\n",
      "x=  tensor([-0.1575, -0.5959, -1.5985]) , f=  1.0034295320510864\n",
      "x=  tensor([-0.1643, -0.5973, -1.6042]) , f=  1.0026651620864868\n",
      "x=  tensor([-0.1704, -0.5986, -1.6092]) , f=  1.002069115638733\n",
      "x=  tensor([-0.1758, -0.5997, -1.6136]) , f=  1.0016049146652222\n",
      "x=  tensor([-0.1805, -0.6007, -1.6174]) , f=  1.0012439489364624\n",
      "x=  tensor([-0.1847, -0.6015, -1.6209]) , f=  1.000963568687439\n",
      "x=  tensor([-0.1883, -0.6023, -1.6239]) , f=  1.0007460117340088\n",
      "x=  tensor([-0.1916, -0.6029, -1.6265]) , f=  1.0005772113800049\n",
      "x=  tensor([-0.1944, -0.6035, -1.6289]) , f=  1.0004464387893677\n",
      "x=  tensor([-0.1970, -0.6040, -1.6309]) , f=  1.0003451108932495\n",
      "x=  tensor([-0.1992, -0.6044, -1.6327]) , f=  1.000266671180725\n",
      "x=  tensor([-0.2011, -0.6048, -1.6343]) , f=  1.0002061128616333\n",
      "x=  tensor([-0.2028, -0.6052, -1.6357]) , f=  1.0001591444015503\n",
      "x=  tensor([-0.2043, -0.6055, -1.6369]) , f=  1.0001229047775269\n",
      "x=  tensor([-0.2057, -0.6057, -1.6380]) , f=  1.0000948905944824\n",
      "x=  tensor([-0.2068, -0.6060, -1.6389]) , f=  1.0000731945037842\n",
      "x=  tensor([-0.2078, -0.6062, -1.6398]) , f=  1.000056505203247\n",
      "x=  tensor([-0.2087, -0.6063, -1.6405]) , f=  1.0000436305999756\n"
     ]
    }
   ],
   "source": [
    "def f(x):\n",
    "    return (x[0]-2*x[1]-1)**2 + (x[1]*x[2]-1)**2 +1\n",
    "\n",
    "def f_grad(x):\n",
    "    z=f(x)\n",
    "    z.backward()\n",
    "    return x.grad\n",
    "\n",
    "x=torch.tensor([1.,2.,3.], requires_grad=True)\n",
    "\n",
    "for i in range(50):\n",
    "    x= x-0.1*f_grad(x)\n",
    "    x= x.detach().requires_grad_(True)\n",
    "    print(\"x= \",x.data,\", f= \",f(x).item())"
   ]
  },
  {
   "cell_type": "markdown",
   "id": "e2fabc4c-4fe1-4b1b-b9b0-89f38abc1257",
   "metadata": {},
   "source": [
    "関数＝エネルギー地形  \n",
    "変数ｘ＝座標　と解釈すると  \n",
    "x(requies_grad=True) は、その地点での勾配を自動計算し、情報はその地点に蓄える。x.gradでアクセス  \n",
    "多分zはただの計算結果ではなくて、地点(=ただの数字)と地形の対応付けの情報が入ってる。backwardで固定して、変数に蓄える  \n",
    "新たに情報を蓄えたいときは、上書きはなくてdetachしないといけない"
   ]
  },
  {
   "cell_type": "markdown",
   "id": "ce1dda11-6c92-4ab4-bd7a-64717c2bf5db",
   "metadata": {},
   "source": [
    "とりあえず最初に書く"
   ]
  },
  {
   "cell_type": "code",
   "execution_count": 28,
   "id": "29682411-1256-4e76-9784-8ae7136f1b4c",
   "metadata": {},
   "outputs": [],
   "source": [
    "import torch\n",
    "import torch.nn as nn\n",
    "import torch.optim as optim\n",
    "import torch.nn.functional as F\n",
    "import numpy as np"
   ]
  },
  {
   "cell_type": "markdown",
   "id": "f322ea28-1c42-447c-bf32-9e91116a7e71",
   "metadata": {},
   "source": [
    "iris2.py GPU　の使用"
   ]
  },
  {
   "cell_type": "code",
   "execution_count": 31,
   "id": "0729238b-15f5-4bc3-8fc0-9b7ed5b7b2ac",
   "metadata": {},
   "outputs": [],
   "source": [
    "device = torch.device(\"cuda:0\"\n",
    "                      if torch.cuda.is_available()\n",
    "                      else \"cpu\")"
   ]
  },
  {
   "cell_type": "markdown",
   "id": "67c0e540-2aea-43ab-a439-45928ca7431b",
   "metadata": {},
   "source": [
    "chapter2"
   ]
  },
  {
   "cell_type": "code",
   "execution_count": null,
   "id": "62cf88b5-2d55-4476-8f55-4a391c869cd1",
   "metadata": {},
   "outputs": [],
   "source": []
  }
 ],
 "metadata": {
  "kernelspec": {
   "display_name": "Python 3 (ipykernel)",
   "language": "python",
   "name": "python3"
  },
  "language_info": {
   "codemirror_mode": {
    "name": "ipython",
    "version": 3
   },
   "file_extension": ".py",
   "mimetype": "text/x-python",
   "name": "python",
   "nbconvert_exporter": "python",
   "pygments_lexer": "ipython3",
   "version": "3.8.10"
  }
 },
 "nbformat": 4,
 "nbformat_minor": 5
}

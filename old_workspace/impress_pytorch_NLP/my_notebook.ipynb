{
 "cells": [
  {
   "cell_type": "code",
   "execution_count": 1,
   "id": "976f449c-72a0-4cb8-8501-ce225af46d1b",
   "metadata": {},
   "outputs": [
    {
     "name": "stderr",
     "output_type": "stream",
     "text": [
      "/home/student/my_env/lib/python3.8/site-packages/tqdm/auto.py:22: TqdmWarning: IProgress not found. Please update jupyter and ipywidgets. See https://ipywidgets.readthedocs.io/en/stable/user_install.html\n",
      "  from .autonotebook import tqdm as notebook_tqdm\n"
     ]
    }
   ],
   "source": [
    "import torch"
   ]
  },
  {
   "cell_type": "code",
   "execution_count": 11,
   "id": "e2c86584-8a6f-43f9-9fb0-ee7b30152f7c",
   "metadata": {},
   "outputs": [],
   "source": [
    "a=torch.tensor([0,1,2,3])"
   ]
  },
  {
   "cell_type": "code",
   "execution_count": 3,
   "id": "dbe175f2-3dba-4cd0-8535-bb4504d8a7b1",
   "metadata": {},
   "outputs": [
    {
     "data": {
      "text/plain": [
       "tensor([0., 1., 2., 3.])"
      ]
     },
     "execution_count": 3,
     "metadata": {},
     "output_type": "execute_result"
    }
   ],
   "source": [
    "torch.Tensor([0,1,2,3])"
   ]
  },
  {
   "cell_type": "code",
   "execution_count": 7,
   "id": "abbc67f2-977f-4a5a-b0b3-ee51e3da821d",
   "metadata": {},
   "outputs": [
    {
     "data": {
      "text/plain": [
       "tensor([[8.7548e+35, 4.5570e-41, 9.2177e-36],\n",
       "        [0.0000e+00, 4.4842e-44, 0.0000e+00]])"
      ]
     },
     "execution_count": 7,
     "metadata": {},
     "output_type": "execute_result"
    }
   ],
   "source": [
    "torch.Tensor(2,3)"
   ]
  },
  {
   "cell_type": "code",
   "execution_count": 8,
   "id": "f20b1515-f41f-4863-ac1b-5b254830462a",
   "metadata": {},
   "outputs": [
    {
     "data": {
      "text/plain": [
       "tensor([[0, 1, 2],\n",
       "        [3, 4, 5]])"
      ]
     },
     "execution_count": 8,
     "metadata": {},
     "output_type": "execute_result"
    }
   ],
   "source": [
    "torch.arange(6).reshape(2,3)"
   ]
  },
  {
   "cell_type": "code",
   "execution_count": 10,
   "id": "27bf98ce-e1ff-4650-be7e-2606874104d4",
   "metadata": {},
   "outputs": [
    {
     "name": "stdout",
     "output_type": "stream",
     "text": [
      "tensor(70.)\n",
      "tensor(70.)\n"
     ]
    }
   ],
   "source": [
    "a0=torch.tensor([1.,2.,3.,4.])\n",
    "a1=torch.tensor([5.,6.,7.,8.])\n",
    "print(torch.dot(a0,a1))\n",
    "print(torch.matmul(a0,a1))"
   ]
  },
  {
   "cell_type": "code",
   "execution_count": 16,
   "id": "816d261f-63d2-4198-b71c-9ee742b388e9",
   "metadata": {},
   "outputs": [
    {
     "name": "stdout",
     "output_type": "stream",
     "text": [
      "torch.int64\n"
     ]
    },
    {
     "data": {
      "text/plain": [
       "'torch.LongTensor'"
      ]
     },
     "execution_count": 16,
     "metadata": {},
     "output_type": "execute_result"
    }
   ],
   "source": [
    "print(a.dtype)\n",
    "a.type()"
   ]
  },
  {
   "cell_type": "code",
   "execution_count": 22,
   "id": "6b61fbde-a10b-4c2d-b88b-d2cdbf0548ab",
   "metadata": {},
   "outputs": [
    {
     "name": "stdout",
     "output_type": "stream",
     "text": [
      "tensor([1., 2., 3.])\n",
      "tensor([1, 2, 3])\n"
     ]
    }
   ],
   "source": [
    "a0=torch.tensor([1,2,3],dtype=torch.float)\n",
    "print(a0)\n",
    "a1=a0.type(torch.LongTensor)\n",
    "print(a1)"
   ]
  },
  {
   "cell_type": "code",
   "execution_count": 24,
   "id": "351cab67-fcab-4f48-8e9f-9f9ff75522b5",
   "metadata": {},
   "outputs": [
    {
     "data": {
      "text/plain": [
       "tensor([[[0, 1, 2],\n",
       "         [3, 4, 5]]])"
      ]
     },
     "execution_count": 24,
     "metadata": {},
     "output_type": "execute_result"
    }
   ],
   "source": [
    "a=torch.arange(6).reshape(2,3)\n",
    "a.unsqueeze(0)"
   ]
  },
  {
   "cell_type": "markdown",
   "id": "169d30fd-4b8a-486e-abfa-c06e0a59309d",
   "metadata": {},
   "source": [
    "a1.py 自動微分"
   ]
  },
  {
   "cell_type": "code",
   "execution_count": null,
   "id": "b6b0c0b8-0705-48e6-8529-50a033f8a291",
   "metadata": {},
   "outputs": [],
   "source": [
    "def f(x):\n",
    "    return (x[0]-2*x[1]-1)**2 + (x[1]*x[2]-1)**2 +1\n",
    "\n",
    "def f_grad(x):\n",
    "    z=f(x)\n",
    "    z.backward()\n",
    "    return x.grad\n",
    "\n",
    "x=torch.tensor([1.,2.,3.], requires_grad=True)\n",
    "\n",
    "for i in range(50):\n",
    "    x= x-0.1*f_grad(x)\n",
    "    x= x.detach().requires_grad_(True)\n",
    "    print(\"x= \",x.data,\", f= \",f(x).item())"
   ]
  },
  {
   "cell_type": "markdown",
   "id": "e2fabc4c-4fe1-4b1b-b9b0-89f38abc1257",
   "metadata": {},
   "source": [
    "関数＝エネルギー地形  \n",
    "変数ｘ＝座標　と解釈すると  \n",
    "x(requies_grad=True) は、その地点での勾配を自動計算し、情報はその地点に蓄える。x.gradでアクセス  \n",
    "多分zはただの計算結果ではなくて、地点(=ただの数字)と地形の対応付けの情報が入ってる。backwardで固定して、変数に蓄える  \n",
    "新たに情報を蓄えたいときは、上書きはなくてdetachしないといけない"
   ]
  },
  {
   "cell_type": "markdown",
   "id": "ce1dda11-6c92-4ab4-bd7a-64717c2bf5db",
   "metadata": {},
   "source": [
    "とりあえず最初に書く"
   ]
  },
  {
   "cell_type": "code",
   "execution_count": 28,
   "id": "29682411-1256-4e76-9784-8ae7136f1b4c",
   "metadata": {},
   "outputs": [],
   "source": [
    "import torch\n",
    "import torch.nn as nn\n",
    "import torch.optim as optim\n",
    "import torch.nn.functional as F\n",
    "import numpy as np"
   ]
  },
  {
   "cell_type": "markdown",
   "id": "f322ea28-1c42-447c-bf32-9e91116a7e71",
   "metadata": {},
   "source": [
    "iris2.py GPU　の使用"
   ]
  },
  {
   "cell_type": "code",
   "execution_count": 31,
   "id": "0729238b-15f5-4bc3-8fc0-9b7ed5b7b2ac",
   "metadata": {},
   "outputs": [],
   "source": [
    "device = torch.device(\"cuda:0\"\n",
    "                      if torch.cuda.is_available()\n",
    "                      else \"cpu\")"
   ]
  },
  {
   "cell_type": "markdown",
   "id": "67c0e540-2aea-43ab-a439-45928ca7431b",
   "metadata": {},
   "source": [
    "chapter2"
   ]
  },
  {
   "cell_type": "code",
   "execution_count": null,
   "id": "62cf88b5-2d55-4476-8f55-4a391c869cd1",
   "metadata": {},
   "outputs": [],
   "source": []
  }
 ],
 "metadata": {
  "kernelspec": {
   "display_name": "Python 3 (ipykernel)",
   "language": "python",
   "name": "python3"
  },
  "language_info": {
   "codemirror_mode": {
    "name": "ipython",
    "version": 3
   },
   "file_extension": ".py",
   "mimetype": "text/x-python",
   "name": "python",
   "nbconvert_exporter": "python",
   "pygments_lexer": "ipython3",
   "version": "3.8.10"
  }
 },
 "nbformat": 4,
 "nbformat_minor": 5
}

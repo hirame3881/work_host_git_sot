{
 "cells": [
  {
   "cell_type": "code",
   "execution_count": 3,
   "id": "3177cbd1-3cce-46f5-b243-10eeeebe716e",
   "metadata": {},
   "outputs": [
    {
     "name": "stdout",
     "output_type": "stream",
     "text": [
      "hello world\n",
      "tensor([[0.0868, 0.4363, 0.9010],\n",
      "        [0.8974, 0.1718, 0.0908],\n",
      "        [0.6961, 0.0899, 0.9989],\n",
      "        [0.0500, 0.9731, 0.6445],\n",
      "        [0.6080, 0.6823, 0.3189]])\n",
      "True\n"
     ]
    }
   ],
   "source": [
    "print(\"hello world\")\n",
    "import torch\n",
    "x = torch.rand(5, 3)\n",
    "print(x)\n",
    "print( torch.cuda.is_available() )\n"
   ]
  },
  {
   "cell_type": "code",
   "execution_count": 4,
   "id": "4adc2eba-52ad-4874-9d10-7e7179b21566",
   "metadata": {},
   "outputs": [],
   "source": [
    "import numpy as np"
   ]
  },
  {
   "cell_type": "code",
   "execution_count": 5,
   "id": "bf49136e-478e-4c27-a18b-26043ab49d52",
   "metadata": {},
   "outputs": [
    {
     "ename": "ModuleNotFoundError",
     "evalue": "No module named 'pandas'",
     "output_type": "error",
     "traceback": [
      "\u001b[0;31m---------------------------------------------------------------------------\u001b[0m",
      "\u001b[0;31mModuleNotFoundError\u001b[0m                       Traceback (most recent call last)",
      "Input \u001b[0;32mIn [5]\u001b[0m, in \u001b[0;36m<cell line: 1>\u001b[0;34m()\u001b[0m\n\u001b[0;32m----> 1\u001b[0m \u001b[38;5;28;01mimport\u001b[39;00m \u001b[38;5;21;01mpandas\u001b[39;00m\n",
      "\u001b[0;31mModuleNotFoundError\u001b[0m: No module named 'pandas'"
     ]
    }
   ],
   "source": [
    "import pandas"
   ]
  },
  {
   "cell_type": "code",
   "execution_count": null,
   "id": "de0d73c7-f52a-4dcb-95a7-e2acf1288953",
   "metadata": {},
   "outputs": [],
   "source": []
  }
 ],
 "metadata": {
  "kernelspec": {
   "display_name": "Python 3 (ipykernel)",
   "language": "python",
   "name": "python3"
  },
  "language_info": {
   "codemirror_mode": {
    "name": "ipython",
    "version": 3
   },
   "file_extension": ".py",
   "mimetype": "text/x-python",
   "name": "python",
   "nbconvert_exporter": "python",
   "pygments_lexer": "ipython3",
   "version": "3.8.10"
  }
 },
 "nbformat": 4,
 "nbformat_minor": 5
}

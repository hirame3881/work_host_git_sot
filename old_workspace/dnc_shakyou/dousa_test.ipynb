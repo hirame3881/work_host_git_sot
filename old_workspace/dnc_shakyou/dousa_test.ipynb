{
 "cells": [
  {
   "cell_type": "code",
   "execution_count": 1,
   "id": "d32c1152-ebac-414c-9b15-38f6b907f4fb",
   "metadata": {},
   "outputs": [
    {
     "name": "stderr",
     "output_type": "stream",
     "text": [
      "/home/student/my_env/lib/python3.8/site-packages/tqdm/auto.py:22: TqdmWarning: IProgress not found. Please update jupyter and ipywidgets. See https://ipywidgets.readthedocs.io/en/stable/user_install.html\n",
      "  from .autonotebook import tqdm as notebook_tqdm\n"
     ]
    }
   ],
   "source": [
    "import importnb\n",
    "with __import__('importnb').Notebook(): \n",
    "    from dnc import DNC"
   ]
  },
  {
   "cell_type": "code",
   "execution_count": 7,
   "id": "5b037b7a-940a-4bcb-807b-4f9e562c3b86",
   "metadata": {},
   "outputs": [],
   "source": [
    "import torch.nn as nn\n",
    "import torch\n",
    "import numpy as np"
   ]
  },
  {
   "cell_type": "code",
   "execution_count": 10,
   "id": "97c94fe8-4ddb-4ac7-a719-87b3a779ab37",
   "metadata": {},
   "outputs": [],
   "source": [
    "W=torch.tensor([[1.,2.],[3.,4.]],requires_grad=True)\n",
    "b=torch.tensor([5.,6.],requires_grad=True)\n",
    "\n",
    "y=torch.mm(W,x)+b"
   ]
  },
  {
   "cell_type": "code",
   "execution_count": 3,
   "id": "cf0cceeb-ce19-4a89-bdda-c002c4cc3997",
   "metadata": {},
   "outputs": [],
   "source": [
    "rnn = DNC(\n",
    "    input_size=64,\n",
    "    hidden_size=128,\n",
    "    rnn_type='lstm',\n",
    "    num_layers=4,\n",
    "    nr_cells=100,\n",
    "    cell_size=32,\n",
    "    read_heads=4,\n",
    "    batch_first=True,\n",
    "    gpu_id=0)\n",
    "\n"
   ]
  },
  {
   "cell_type": "code",
   "execution_count": 4,
   "id": "459548fc-929e-44f2-a4c9-b67c87e2b199",
   "metadata": {},
   "outputs": [
    {
     "name": "stdout",
     "output_type": "stream",
     "text": [
      "cuda:0\n",
      "cpu\n",
      "cuda:0\n"
     ]
    }
   ],
   "source": [
    "torch.cuda.is_available()\n",
    "torch.cuda.device_count()\n",
    "t_gpu = torch.tensor([0.1, 0.2], device='cuda')\n",
    "print(t_gpu.device)\n",
    "\n",
    "print(torch.randn(10,4,64).device)\n",
    "print(torch.randn(10,4,64).cuda('cuda:0').device)"
   ]
  },
  {
   "cell_type": "code",
   "execution_count": 5,
   "id": "f0e5bf5a-2853-468b-bb8b-1a803ad87467",
   "metadata": {},
   "outputs": [
    {
     "name": "stdout",
     "output_type": "stream",
     "text": [
      "cuda:0\n",
      "cuda:0\n"
     ]
    }
   ],
   "source": [
    "(controller_hidde, memory_hidden, read_vectors) = (None,None,None)\n",
    "output,(controller_hidde, memory_hidden, read_vectors) =\\\n",
    "rnn(torch.randn(10,4,64).cuda('cuda:0'), (controller_hidde, memory_hidden, read_vectors) ,reset_experience=True)"
   ]
  },
  {
   "cell_type": "code",
   "execution_count": 3,
   "id": "0cd2d2c7-38d1-4705-b218-1e9036b4465d",
   "metadata": {},
   "outputs": [],
   "source": [
    "rnn_debug = DNC(\n",
    "    input_size=64,\n",
    "    hidden_size=128,\n",
    "    rnn_type='lstm',\n",
    "    num_layers=4,\n",
    "    nr_cells=100,\n",
    "    cell_size=32,\n",
    "    read_heads=4,\n",
    "    batch_first=True,\n",
    "    gpu_id=0,\n",
    "    debug=True\n",
    ")"
   ]
  },
  {
   "cell_type": "code",
   "execution_count": 4,
   "id": "bace585b-d1ae-4d9d-8669-5d1b4c32dd43",
   "metadata": {},
   "outputs": [
    {
     "name": "stdout",
     "output_type": "stream",
     "text": [
      "cuda:0\n",
      "cuda:0\n"
     ]
    }
   ],
   "source": [
    "(controller_hidde, memory_hidden, read_vectors) = (None,None,None)\n",
    "output,(controller_hidde, memory_hidden, read_vectors), debug_memory =\\\n",
    "rnn_debug(torch.randn(10,4,64).cuda('cuda:0'), (controller_hidde, memory_hidden, read_vectors) ,reset_experience=True)"
   ]
  },
  {
   "cell_type": "code",
   "execution_count": 5,
   "id": "a5329ee7-8687-44af-85a0-91b0e8ebf01e",
   "metadata": {},
   "outputs": [
    {
     "data": {
      "text/plain": [
       "{'memory': array([[ 6.56399061e-05, -7.08198568e-05, -8.45112736e-05, ...,\n",
       "          4.23363745e-05,  1.10829096e-04, -1.33876718e-04],\n",
       "        [ 2.16724620e-05, -1.36596791e-04, -1.56552851e-04, ...,\n",
       "          1.90049788e-04,  1.98610214e-04, -3.27439018e-04],\n",
       "        [-1.27473049e-05, -2.69530312e-04, -2.83238827e-04, ...,\n",
       "          2.47015560e-04,  3.08124028e-04, -4.71925363e-04],\n",
       "        ...,\n",
       "        [ 1.62366516e-04, -1.20960106e-03, -1.36860507e-03, ...,\n",
       "          9.99950455e-04,  1.50992791e-03, -2.30423152e-03],\n",
       "        [ 7.32786939e-05, -1.42701971e-03, -1.50839915e-03, ...,\n",
       "          1.05833553e-03,  1.58040703e-03, -2.44400627e-03],\n",
       "        [ 1.21396806e-04, -1.48120953e-03, -1.60101254e-03, ...,\n",
       "          1.11056550e-03,  1.74991030e-03, -2.64321407e-03]], dtype=float32),\n",
       " 'link_matrix': array([[0.0000000e+00, 0.0000000e+00, 0.0000000e+00, ..., 0.0000000e+00,\n",
       "         0.0000000e+00, 0.0000000e+00],\n",
       "        [0.0000000e+00, 6.5951731e-06, 6.5951731e-06, ..., 8.0801622e-04,\n",
       "         8.2408278e-06, 0.0000000e+00],\n",
       "        [0.0000000e+00, 1.6539681e-05, 1.6539681e-05, ..., 1.1404371e-03,\n",
       "         6.5698696e-04, 0.0000000e+00],\n",
       "        ...,\n",
       "        [0.0000000e+00, 1.5224048e-04, 1.5224048e-04, ..., 1.5131311e-03,\n",
       "         1.3379633e-03, 0.0000000e+00],\n",
       "        [0.0000000e+00, 1.6479174e-04, 1.6479171e-04, ..., 1.5188938e-03,\n",
       "         1.3445659e-03, 0.0000000e+00],\n",
       "        [0.0000000e+00, 1.7688615e-04, 1.7688688e-04, ..., 1.5242938e-03,\n",
       "         1.3508094e-03, 0.0000000e+00]], dtype=float32),\n",
       " 'precedence': array([[0.00259496, 0.00259496, 0.00259496, ..., 0.25443712, 0.00259496,\n",
       "         0.00259496],\n",
       "        [0.0038372 , 0.0038372 , 0.0038372 , ..., 0.12958476, 0.24974471,\n",
       "         0.00447137],\n",
       "        [0.00447943, 0.00447943, 0.00447943, ..., 0.06607054, 0.12485738,\n",
       "         0.00478722],\n",
       "        ...,\n",
       "        [0.00508035, 0.00508034, 0.00508034, ..., 0.00524214, 0.00518834,\n",
       "         0.00508205],\n",
       "        [0.0051011 , 0.0051011 , 0.0051014 , ..., 0.00522044, 0.00515424,\n",
       "         0.00510208],\n",
       "        [0.00506696, 0.00506697, 0.00506712, ..., 0.00521391, 0.00509769,\n",
       "         0.00506769]], dtype=float32),\n",
       " 'read_weights': array([[0.00339464, 0.00339464, 0.00339464, ..., 0.00315584, 0.00315546,\n",
       "         0.00315546],\n",
       "        [0.00338502, 0.00338502, 0.00338502, ..., 0.00334043, 0.00327549,\n",
       "         0.00317072],\n",
       "        [0.00339048, 0.00339048, 0.00339048, ..., 0.00332349, 0.00334887,\n",
       "         0.003135  ],\n",
       "        ...,\n",
       "        [0.00345971, 0.00345971, 0.00345971, ..., 0.00348788, 0.00353053,\n",
       "         0.00323736],\n",
       "        [0.00350115, 0.00350115, 0.00350115, ..., 0.00341972, 0.00352959,\n",
       "         0.00321585],\n",
       "        [0.00361644, 0.00361644, 0.00361644, ..., 0.00335738, 0.00339527,\n",
       "         0.00311352]], dtype=float32),\n",
       " 'write_weights': array([[0.00259496, 0.00259496, 0.00259496, ..., 0.25443712, 0.00259496,\n",
       "         0.00259496],\n",
       "        [0.00254153, 0.00254153, 0.00254153, ..., 0.00254393, 0.24844904,\n",
       "         0.0031757 ],\n",
       "        [0.00260055, 0.00260055, 0.00260055, ..., 0.00261926, 0.00256968,\n",
       "         0.00259781],\n",
       "        ...,\n",
       "        [0.00252787, 0.00252786, 0.00252786, ..., 0.00258996, 0.00257491,\n",
       "         0.00252906],\n",
       "        [0.00262807, 0.00262808, 0.00262838, ..., 0.00266865, 0.00262865,\n",
       "         0.00262822],\n",
       "        [0.00253471, 0.00253471, 0.00253471, ..., 0.00262241, 0.00253905,\n",
       "         0.00253495]], dtype=float32),\n",
       " 'usage_vector': array([[0.        , 0.        , 0.        , ..., 0.        , 0.        ,\n",
       "         0.        ],\n",
       "        [0.00257791, 0.00257791, 0.00257791, ..., 0.2527666 , 0.00257791,\n",
       "         0.00257791],\n",
       "        [0.00507935, 0.00507935, 0.00507935, ..., 0.25291553, 0.24868435,\n",
       "         0.00570772],\n",
       "        ...,\n",
       "        [0.03143708, 0.03143708, 0.03143708, ..., 0.2542747 , 0.24961556,\n",
       "         0.0320062 ],\n",
       "        [0.03365894, 0.03365888, 0.03365888, ..., 0.25434315, 0.24967079,\n",
       "         0.03422393],\n",
       "        [0.03595288, 0.03595282, 0.0359531 , ..., 0.254446  , 0.24974112,\n",
       "         0.03651263]], dtype=float32)}"
      ]
     },
     "execution_count": 5,
     "metadata": {},
     "output_type": "execute_result"
    }
   ],
   "source": [
    "debug_memory"
   ]
  },
  {
   "cell_type": "code",
   "execution_count": null,
   "id": "6ab792a4-8d56-43f9-b2e4-1edf3eb1a97c",
   "metadata": {},
   "outputs": [],
   "source": []
  }
 ],
 "metadata": {
  "kernelspec": {
   "display_name": "Python 3 (ipykernel)",
   "language": "python",
   "name": "python3"
  },
  "language_info": {
   "codemirror_mode": {
    "name": "ipython",
    "version": 3
   },
   "file_extension": ".py",
   "mimetype": "text/x-python",
   "name": "python",
   "nbconvert_exporter": "python",
   "pygments_lexer": "ipython3",
   "version": "3.8.10"
  }
 },
 "nbformat": 4,
 "nbformat_minor": 5
}

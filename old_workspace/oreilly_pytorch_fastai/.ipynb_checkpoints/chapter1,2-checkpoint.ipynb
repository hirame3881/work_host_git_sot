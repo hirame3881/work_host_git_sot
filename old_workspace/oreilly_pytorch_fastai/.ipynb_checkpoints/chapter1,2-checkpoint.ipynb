{
 "cells": [
  {
   "cell_type": "code",
   "execution_count": null,
   "id": "f21aba7d-09aa-4b49-a947-643b37f45081",
   "metadata": {},
   "outputs": [],
   "source": []
  },
  {
   "cell_type": "markdown",
   "id": "97e3ec18-19a8-43c1-bcd6-ee8aee0ca5aa",
   "metadata": {},
   "source": [
    "↓以下の数行でデータセットと訓練済みモデルをダウンロードし、ファインチューニングする"
   ]
  },
  {
   "cell_type": "code",
   "execution_count": 5,
   "id": "ea719e00-3aba-4a88-b0fd-a3bcd48ac4ae",
   "metadata": {},
   "outputs": [
    {
     "name": "stderr",
     "output_type": "stream",
     "text": [
      "/home/student/my_env/lib/python3.8/site-packages/tqdm/auto.py:22: TqdmWarning: IProgress not found. Please update jupyter and ipywidgets. See https://ipywidgets.readthedocs.io/en/stable/user_install.html\n",
      "  from .autonotebook import tqdm as notebook_tqdm\n"
     ]
    },
    {
     "data": {
      "text/html": [
       "\n",
       "<style>\n",
       "    /* Turns off some styling */\n",
       "    progress {\n",
       "        /* gets rid of default border in Firefox and Opera. */\n",
       "        border: none;\n",
       "        /* Needs to be in here for Safari polyfill so background images work as expected. */\n",
       "        background-size: auto;\n",
       "    }\n",
       "    progress:not([value]), progress:not([value])::-webkit-progress-bar {\n",
       "        background: repeating-linear-gradient(45deg, #7e7e7e, #7e7e7e 10px, #5c5c5c 10px, #5c5c5c 20px);\n",
       "    }\n",
       "    .progress-bar-interrupted, .progress-bar-interrupted::-webkit-progress-bar {\n",
       "        background: #F44336;\n",
       "    }\n",
       "</style>\n"
      ],
      "text/plain": [
       "<IPython.core.display.HTML object>"
      ]
     },
     "metadata": {},
     "output_type": "display_data"
    },
    {
     "data": {
      "text/html": [
       "\n",
       "    <div>\n",
       "      <progress value='811712512' class='' max='811706944' style='width:300px; height:20px; vertical-align: middle;'></progress>\n",
       "      100.00% [811712512/811706944 01:34&lt;00:00]\n",
       "    </div>\n",
       "    "
      ],
      "text/plain": [
       "<IPython.core.display.HTML object>"
      ]
     },
     "metadata": {},
     "output_type": "display_data"
    },
    {
     "name": "stderr",
     "output_type": "stream",
     "text": [
      "/home/student/my_env/lib/python3.8/site-packages/torchvision/models/_utils.py:208: UserWarning: The parameter 'pretrained' is deprecated since 0.13 and will be removed in 0.15, please use 'weights' instead.\n",
      "  warnings.warn(\n",
      "/home/student/my_env/lib/python3.8/site-packages/torchvision/models/_utils.py:223: UserWarning: Arguments other than a weight enum or `None` for 'weights' are deprecated since 0.13 and will be removed in 0.15. The current behavior is equivalent to passing `weights=ResNet34_Weights.IMAGENET1K_V1`. You can also use `weights=ResNet34_Weights.DEFAULT` to get the most up-to-date weights.\n",
      "  warnings.warn(msg)\n",
      "Downloading: \"https://download.pytorch.org/models/resnet34-b627a593.pth\" to /home/student/.cache/torch/hub/checkpoints/resnet34-b627a593.pth\n",
      "100%|██████████████████████████████████████████████████████████████████████████████████████████████████████████████████████████████████████████████████████████████████| 83.3M/83.3M [00:00<00:00, 107MB/s]\n"
     ]
    },
    {
     "data": {
      "text/html": [
       "\n",
       "<style>\n",
       "    /* Turns off some styling */\n",
       "    progress {\n",
       "        /* gets rid of default border in Firefox and Opera. */\n",
       "        border: none;\n",
       "        /* Needs to be in here for Safari polyfill so background images work as expected. */\n",
       "        background-size: auto;\n",
       "    }\n",
       "    progress:not([value]), progress:not([value])::-webkit-progress-bar {\n",
       "        background: repeating-linear-gradient(45deg, #7e7e7e, #7e7e7e 10px, #5c5c5c 10px, #5c5c5c 20px);\n",
       "    }\n",
       "    .progress-bar-interrupted, .progress-bar-interrupted::-webkit-progress-bar {\n",
       "        background: #F44336;\n",
       "    }\n",
       "</style>\n"
      ],
      "text/plain": [
       "<IPython.core.display.HTML object>"
      ]
     },
     "metadata": {},
     "output_type": "display_data"
    },
    {
     "data": {
      "text/html": [
       "<table border=\"1\" class=\"dataframe\">\n",
       "  <thead>\n",
       "    <tr style=\"text-align: left;\">\n",
       "      <th>epoch</th>\n",
       "      <th>train_loss</th>\n",
       "      <th>valid_loss</th>\n",
       "      <th>error_rate</th>\n",
       "      <th>time</th>\n",
       "    </tr>\n",
       "  </thead>\n",
       "  <tbody>\n",
       "    <tr>\n",
       "      <td>0</td>\n",
       "      <td>0.166709</td>\n",
       "      <td>0.026716</td>\n",
       "      <td>0.009472</td>\n",
       "      <td>02:07</td>\n",
       "    </tr>\n",
       "  </tbody>\n",
       "</table>"
      ],
      "text/plain": [
       "<IPython.core.display.HTML object>"
      ]
     },
     "metadata": {},
     "output_type": "display_data"
    },
    {
     "data": {
      "text/html": [
       "\n",
       "<style>\n",
       "    /* Turns off some styling */\n",
       "    progress {\n",
       "        /* gets rid of default border in Firefox and Opera. */\n",
       "        border: none;\n",
       "        /* Needs to be in here for Safari polyfill so background images work as expected. */\n",
       "        background-size: auto;\n",
       "    }\n",
       "    progress:not([value]), progress:not([value])::-webkit-progress-bar {\n",
       "        background: repeating-linear-gradient(45deg, #7e7e7e, #7e7e7e 10px, #5c5c5c 10px, #5c5c5c 20px);\n",
       "    }\n",
       "    .progress-bar-interrupted, .progress-bar-interrupted::-webkit-progress-bar {\n",
       "        background: #F44336;\n",
       "    }\n",
       "</style>\n"
      ],
      "text/plain": [
       "<IPython.core.display.HTML object>"
      ]
     },
     "metadata": {},
     "output_type": "display_data"
    },
    {
     "data": {
      "text/html": [
       "<table border=\"1\" class=\"dataframe\">\n",
       "  <thead>\n",
       "    <tr style=\"text-align: left;\">\n",
       "      <th>epoch</th>\n",
       "      <th>train_loss</th>\n",
       "      <th>valid_loss</th>\n",
       "      <th>error_rate</th>\n",
       "      <th>time</th>\n",
       "    </tr>\n",
       "  </thead>\n",
       "  <tbody>\n",
       "    <tr>\n",
       "      <td>0</td>\n",
       "      <td>0.054124</td>\n",
       "      <td>0.011653</td>\n",
       "      <td>0.003383</td>\n",
       "      <td>01:04</td>\n",
       "    </tr>\n",
       "  </tbody>\n",
       "</table>"
      ],
      "text/plain": [
       "<IPython.core.display.HTML object>"
      ]
     },
     "metadata": {},
     "output_type": "display_data"
    }
   ],
   "source": [
    "#id first_training\n",
    "#caption Results from the first training\n",
    "# CLICK ME\n",
    "from fastai.vision.all import *\n",
    "path = untar_data(URLs.PETS)/'images'\n",
    "\n",
    "def is_cat(x): return x[0].isupper()\n",
    "dls = ImageDataLoaders.from_name_func(\n",
    "    path, get_image_files(path), valid_pct=0.2, seed=42,\n",
    "    label_func=is_cat, item_tfms=Resize(224))\n",
    "\n",
    "learn = vision_learner(dls, resnet34, metrics=error_rate)\n",
    "learn.fine_tune(1)"
   ]
  },
  {
   "cell_type": "markdown",
   "id": "acea3361-e453-47c6-94f4-450411bd9e53",
   "metadata": {},
   "source": [
    "jupyterlab はipywidgetsを入れないといけない。GUIなのでまたあとで入れておく"
   ]
  },
  {
   "cell_type": "code",
   "execution_count": 6,
   "id": "66680f03-ded6-4274-a343-714065da17ca",
   "metadata": {},
   "outputs": [
    {
     "ename": "NameError",
     "evalue": "name 'widgets' is not defined",
     "output_type": "error",
     "traceback": [
      "\u001b[0;31m---------------------------------------------------------------------------\u001b[0m",
      "\u001b[0;31mNameError\u001b[0m                                 Traceback (most recent call last)",
      "Input \u001b[0;32mIn [6]\u001b[0m, in \u001b[0;36m<cell line: 1>\u001b[0;34m()\u001b[0m\n\u001b[0;32m----> 1\u001b[0m uploader\u001b[38;5;241m=\u001b[39m\u001b[43mwidgets\u001b[49m\u001b[38;5;241m.\u001b[39mFileUpload()\n\u001b[1;32m      2\u001b[0m uploader\n",
      "\u001b[0;31mNameError\u001b[0m: name 'widgets' is not defined"
     ]
    }
   ],
   "source": [
    "uploader=widgets.FileUpload()\n",
    "uploader"
   ]
  },
  {
   "cell_type": "code",
   "execution_count": 9,
   "id": "aab778a5-27bb-4d8d-9ff8-d9ea1c8cbdd3",
   "metadata": {},
   "outputs": [],
   "source": [
    "uploader = SimpleNamespace(data = ['fastbook-master/images/chapter1_cat_example.jpg'])"
   ]
  },
  {
   "cell_type": "code",
   "execution_count": 10,
   "id": "c0eec3fb-7be3-4bab-b3ea-82de54deacb4",
   "metadata": {},
   "outputs": [
    {
     "data": {
      "text/html": [
       "\n",
       "<style>\n",
       "    /* Turns off some styling */\n",
       "    progress {\n",
       "        /* gets rid of default border in Firefox and Opera. */\n",
       "        border: none;\n",
       "        /* Needs to be in here for Safari polyfill so background images work as expected. */\n",
       "        background-size: auto;\n",
       "    }\n",
       "    progress:not([value]), progress:not([value])::-webkit-progress-bar {\n",
       "        background: repeating-linear-gradient(45deg, #7e7e7e, #7e7e7e 10px, #5c5c5c 10px, #5c5c5c 20px);\n",
       "    }\n",
       "    .progress-bar-interrupted, .progress-bar-interrupted::-webkit-progress-bar {\n",
       "        background: #F44336;\n",
       "    }\n",
       "</style>\n"
      ],
      "text/plain": [
       "<IPython.core.display.HTML object>"
      ]
     },
     "metadata": {},
     "output_type": "display_data"
    },
    {
     "data": {
      "text/html": [],
      "text/plain": [
       "<IPython.core.display.HTML object>"
      ]
     },
     "metadata": {},
     "output_type": "display_data"
    },
    {
     "name": "stdout",
     "output_type": "stream",
     "text": [
      "Is this a cat?: True.\n",
      "Probability it's a cat: 1.000000\n"
     ]
    }
   ],
   "source": [
    "img = PILImage.create(uploader.data[0])\n",
    "is_cat,_,probs = learn.predict(img)\n",
    "print(f\"Is this a cat?: {is_cat}.\")\n",
    "print(f\"Probability it's a cat: {probs[1].item():.6f}\")"
   ]
  },
  {
   "cell_type": "markdown",
   "id": "abd2f35c-c79c-426d-981a-4665c2c02de6",
   "metadata": {},
   "source": [
    "最初のコード解説  "
   ]
  },
  {
   "cell_type": "code",
   "execution_count": null,
   "id": "ed6634db-5719-4bb1-a6dd-03456bef705b",
   "metadata": {},
   "outputs": [],
   "source": [
    "from fastai.vision.all import *\n",
    "#vision ライブラリをすべてインポート。これはCVモデルに必要な関数やクラス\n",
    "path = untar_data(URLs.PETS)/'images'\n",
    "#データダウンロード、解凍をして解凍場所をPathオブジェクトとして返す\n",
    "\n",
    "def is_cat(x): return x[0].isupper()\n",
    "#猫かどうかを示すラベルを返す関数（これはデータセット依存）。次の行で使う。このデータは文頭大文字なら猫\n",
    "dls = ImageDataLoaders.from_name_func(\n",
    "    path, get_image_files(path), valid_pct=0.2, seed=42,\n",
    "    label_func=is_cat, item_tfms=Resize(224))\n",
    "#データセットについての指示。データのロードを行う。同時に、ラベルの取得方法も指示。出来合いのラベル生成関数も多くある\n",
    "#最後のはTransformで、item_tfmsは項目ごと変換だが基本はbatch_tfmsの方を多用する。出来合いのtransformも多くあるし自作でもいい\n",
    "#from_name_funcは、「ファイル名に」関数（ここではis_cat）を適用するとラベルを得られることを示す\n",
    "#valid_pctは検証セットの割合。選抜のシードを固定すること。\n",
    "\n",
    "learn = vision_learner(dls, resnet34, metrics=error_rate)\n",
    "#モデルを指定している。cnn_learnerとかもある。resnetはアーキテクチャの種類。第一引数がデータ。あとメトリック。error_rate以外にもいろいろ用意されてる\n",
    "#pretraind引数もある。デフォルトでTrue\n",
    "learn.fine_tune(1)\n",
    "#fitではなく、もとのモデルをなるべく変えないやり方。引数がいろいろある"
   ]
  },
  {
   "cell_type": "markdown",
   "id": "2412de3e-d80a-4b89-b368-4d67650fd623",
   "metadata": {},
   "source": [
    "If you ever have any questions about a fastai method, you should use the function `doc`, passing it the method name:\n",
    "\n",
    "```python\n",
    "doc(learn.predict)\n",
    "```\n",
    "\n",
    "This will make a small window pop up with content like this:\n",
    "\n",
    "<img src=\"images/doc_ex.png\" width=\"600\">"
   ]
  },
  {
   "cell_type": "code",
   "execution_count": 14,
   "id": "0b27a93e-2e26-4016-93f3-2ab24c670e39",
   "metadata": {},
   "outputs": [
    {
     "data": {
      "text/html": [
       "<hr/>\n",
       "<h3>ImageDataLoaders</h3>\n",
       "<blockquote><pre><code>ImageDataLoaders(*loaders, path:str|Path='.', device=None)</code></pre></blockquote><p>Basic wrapper around several `DataLoader`s with factory methods for computer vision problems</p>"
      ],
      "text/plain": [
       "<IPython.core.display.HTML object>"
      ]
     },
     "metadata": {},
     "output_type": "display_data"
    }
   ],
   "source": [
    "doc(ImageDataLoaders)"
   ]
  },
  {
   "cell_type": "markdown",
   "id": "41661b41-8c9a-41cf-aed5-cc00ec131903",
   "metadata": {},
   "source": [
    "テーブルデータのdataloader部分。"
   ]
  },
  {
   "cell_type": "code",
   "execution_count": null,
   "id": "cfd5b40f-e4af-4033-a23c-5d9ea90bc806",
   "metadata": {},
   "outputs": [],
   "source": [
    "dls = TabularDataLoaders.from_csv(path/'adult.csv', path=path, y_names=\"salary\",\n",
    "    cat_names = ['workclass', 'education', 'marital-status', 'occupation',\n",
    "                 'relationship', 'race'],\n",
    "    cont_names = ['age', 'fnlwgt', 'education-num'],\n",
    "    procs = [Categorify, FillMissing, Normalize])"
   ]
  },
  {
   "cell_type": "code",
   "execution_count": null,
   "id": "dcaf0f67-966c-407f-a141-3c86c14fdfae",
   "metadata": {},
   "outputs": [],
   "source": [
    "learn.fit_one_cycle(3)\n",
    "#事前学習済みモデルがないときによく使われる。でもfine_tuneのがうまく行くときもある"
   ]
  },
  {
   "cell_type": "markdown",
   "id": "31ebff42-7d95-412a-889e-dd9df4488f84",
   "metadata": {
    "tags": []
   },
   "source": [
    "chap2"
   ]
  },
  {
   "cell_type": "markdown",
   "id": "3e6a46e7-195a-405b-bdea-d95c96e0f587",
   "metadata": {},
   "source": [
    "ある関数がどこで定義されているかわからなかったら、セルに素で置くことでわかる  \n",
    "??をつけるとヘルプが見れる。　docと違ってfastai限定ではない"
   ]
  },
  {
   "cell_type": "code",
   "execution_count": 20,
   "id": "d4543101-64bc-4cdf-be99-6449d766127d",
   "metadata": {},
   "outputs": [
    {
     "data": {
      "text/plain": [
       "fastai.vision.data.ImageDataLoaders"
      ]
     },
     "execution_count": 20,
     "metadata": {},
     "output_type": "execute_result"
    }
   ],
   "source": [
    "ImageDataLoaders"
   ]
  },
  {
   "cell_type": "code",
   "execution_count": 21,
   "id": "da7f6a07-9383-4643-8bcf-1d52e70181af",
   "metadata": {},
   "outputs": [
    {
     "data": {
      "text/plain": [
       "\u001b[0;31mSignature:\u001b[0m \u001b[0mverify_images\u001b[0m\u001b[0;34m(\u001b[0m\u001b[0mfns\u001b[0m\u001b[0;34m)\u001b[0m\u001b[0;34m\u001b[0m\u001b[0;34m\u001b[0m\u001b[0m\n",
       "\u001b[0;31mSource:\u001b[0m   \n",
       "\u001b[0;32mdef\u001b[0m \u001b[0mverify_images\u001b[0m\u001b[0;34m(\u001b[0m\u001b[0mfns\u001b[0m\u001b[0;34m)\u001b[0m\u001b[0;34m:\u001b[0m\u001b[0;34m\u001b[0m\n",
       "\u001b[0;34m\u001b[0m    \u001b[0;34m\"Find images in `fns` that can't be opened\"\u001b[0m\u001b[0;34m\u001b[0m\n",
       "\u001b[0;34m\u001b[0m    \u001b[0;32mreturn\u001b[0m \u001b[0mL\u001b[0m\u001b[0;34m(\u001b[0m\u001b[0mfns\u001b[0m\u001b[0;34m[\u001b[0m\u001b[0mi\u001b[0m\u001b[0;34m]\u001b[0m \u001b[0;32mfor\u001b[0m \u001b[0mi\u001b[0m\u001b[0;34m,\u001b[0m\u001b[0mo\u001b[0m \u001b[0;32min\u001b[0m \u001b[0menumerate\u001b[0m\u001b[0;34m(\u001b[0m\u001b[0mparallel\u001b[0m\u001b[0;34m(\u001b[0m\u001b[0mverify_image\u001b[0m\u001b[0;34m,\u001b[0m \u001b[0mfns\u001b[0m\u001b[0;34m)\u001b[0m\u001b[0;34m)\u001b[0m \u001b[0;32mif\u001b[0m \u001b[0;32mnot\u001b[0m \u001b[0mo\u001b[0m\u001b[0;34m)\u001b[0m\u001b[0;34m\u001b[0m\u001b[0;34m\u001b[0m\u001b[0m\n",
       "\u001b[0;31mFile:\u001b[0m      ~/my_env/lib/python3.8/site-packages/fastai/vision/utils.py\n",
       "\u001b[0;31mType:\u001b[0m      function\n"
      ]
     },
     "metadata": {},
     "output_type": "display_data"
    }
   ],
   "source": [
    "??verify_images"
   ]
  },
  {
   "cell_type": "markdown",
   "id": "8273e039-a6ba-49a4-a93c-de0e8fc296f0",
   "metadata": {},
   "source": [
    "mapメソッドは引数の関数がコレクションの各要素に適用される"
   ]
  },
  {
   "cell_type": "markdown",
   "id": "2b3c8476-3866-4baa-98e1-6d3de4bed1ef",
   "metadata": {},
   "source": [
    "次の%debug でデバッグ。便利"
   ]
  },
  {
   "cell_type": "markdown",
   "id": "b2ee5339-62dc-437d-b277-638b262ebad2",
   "metadata": {},
   "source": [
    "DataloadersはDataloaderをtrainとvalidに分け、モデルに食わせるための重要なクラス  \n",
    "DataBlockは細かくカスタマイズできる  \n",
    "  \n",
    "他にもいろいろ細かいことはあるが、fastaiに限定しすぎだし飛ばしておく"
   ]
  },
  {
   "cell_type": "code",
   "execution_count": null,
   "id": "f00a4f81-4043-4035-adde-bc3afabdc7ce",
   "metadata": {},
   "outputs": [],
   "source": []
  }
 ],
 "metadata": {
  "kernelspec": {
   "display_name": "Python 3 (ipykernel)",
   "language": "python",
   "name": "python3"
  },
  "language_info": {
   "codemirror_mode": {
    "name": "ipython",
    "version": 3
   },
   "file_extension": ".py",
   "mimetype": "text/x-python",
   "name": "python",
   "nbconvert_exporter": "python",
   "pygments_lexer": "ipython3",
   "version": "3.8.10"
  }
 },
 "nbformat": 4,
 "nbformat_minor": 5
}

{
 "cells": [
  {
   "cell_type": "code",
   "execution_count": 1,
   "id": "a0017871-dfb7-4567-b26c-88afab6d6aba",
   "metadata": {},
   "outputs": [
    {
     "name": "stderr",
     "output_type": "stream",
     "text": [
      "/home/student/my_env/lib/python3.8/site-packages/tqdm/auto.py:22: TqdmWarning: IProgress not found. Please update jupyter and ipywidgets. See https://ipywidgets.readthedocs.io/en/stable/user_install.html\n",
      "  from .autonotebook import tqdm as notebook_tqdm\n",
      "Setting up a new session...\n"
     ]
    }
   ],
   "source": [
    "import visdom\n",
    "vis=visdom.Visdom()"
   ]
  },
  {
   "cell_type": "code",
   "execution_count": null,
   "id": "35d9cfb4-b0e5-4d07-92e2-f3785bf80bed",
   "metadata": {},
   "outputs": [],
   "source": [
    "trace = dict(x=[1,2,3], y=[4,5,6], marker={'color': 'red', 'symbol': 104, 'size': \"10\"},\n",
    "                    mode=\"markers+lines\",  text=[\"one\",\"two\",\"three\"], name='1st Trace')\n",
    "layout=dict(title=\"First Plot\", xaxis={'title':'x1'}, yaxis={'title':'x2'})\n",
    "\n",
    "vis._send({'data': [trace], 'layout': layout, 'win': 'mywin'})"
   ]
  },
  {
   "cell_type": "code",
   "execution_count": 2,
   "id": "97f76825-570b-48bc-a1ff-06b6dc4887fe",
   "metadata": {},
   "outputs": [],
   "source": [
    "import numpy as np"
   ]
  },
  {
   "cell_type": "code",
   "execution_count": 2,
   "id": "c53b88de-0e6e-4aed-bd7b-add40e02d84a",
   "metadata": {},
   "outputs": [
    {
     "data": {
      "text/plain": [
       "'window_3b24dc07dfa8c4'"
      ]
     },
     "execution_count": 2,
     "metadata": {},
     "output_type": "execute_result"
    }
   ],
   "source": [
    "vis.text(\"test2\")"
   ]
  },
  {
   "cell_type": "code",
   "execution_count": 4,
   "id": "7b540ab0-0380-4326-848e-8344f2520317",
   "metadata": {},
   "outputs": [
    {
     "data": {
      "text/plain": [
       "'window_3b24dbab05f5bc'"
      ]
     },
     "execution_count": 4,
     "metadata": {},
     "output_type": "execute_result"
    },
    {
     "name": "stderr",
     "output_type": "stream",
     "text": [
      "Connection to remote host was lost.\n",
      "[Errno 111] Connection refused\n",
      "[Errno 111] Connection refused\n",
      "Connection to remote host was lost.\n",
      "[Errno 111] Connection refused\n"
     ]
    }
   ],
   "source": [
    "vis.image(np.random.rand(3, 256, 256))"
   ]
  },
  {
   "cell_type": "code",
   "execution_count": null,
   "id": "aecb9b78-cade-4c2a-b997-53279a552839",
   "metadata": {},
   "outputs": [],
   "source": [
    "vis.heatmap(np.ones(( 10, 10)))"
   ]
  },
  {
   "cell_type": "code",
   "execution_count": null,
   "id": "476de9b0-5c9e-4bfc-b887-b8b1b83b6bc0",
   "metadata": {},
   "outputs": [],
   "source": []
  }
 ],
 "metadata": {
  "kernelspec": {
   "display_name": "Python 3 (ipykernel)",
   "language": "python",
   "name": "python3"
  },
  "language_info": {
   "codemirror_mode": {
    "name": "ipython",
    "version": 3
   },
   "file_extension": ".py",
   "mimetype": "text/x-python",
   "name": "python",
   "nbconvert_exporter": "python",
   "pygments_lexer": "ipython3",
   "version": "3.8.10"
  }
 },
 "nbformat": 4,
 "nbformat_minor": 5
}
